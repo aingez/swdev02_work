{
 "cells": [
  {
   "cell_type": "code",
   "execution_count": 11,
   "id": "17976370-382b-4233-a4fc-9d760f5919eb",
   "metadata": {},
   "outputs": [
    {
     "name": "stdout",
     "output_type": "stream",
     "text": [
      "Creating Connection . . .\n",
      "Connceted\n",
      "Getting Data . . .\n",
      "Closing Connection . . .\n",
      "Disconnected\n"
     ]
    },
    {
     "name": "stderr",
     "output_type": "stream",
     "text": [
      "100%|██████████| 1093/1093 [56:36<00:00,  3.11s/it] "
     ]
    },
    {
     "name": "stdout",
     "output_type": "stream",
     "text": [
      "Runtime :  3396.4911439418793  sec.\n"
     ]
    },
    {
     "name": "stderr",
     "output_type": "stream",
     "text": [
      "\n"
     ]
    }
   ],
   "source": [
    "import mysql.connector\n",
    "\n",
    "print(\"Creating Connection . . .\")\n",
    "db = mysql.connector.connect(\n",
    "    host=\"localhost\",\n",
    "    user=\"root\",\n",
    "    password=\"aingg\",\n",
    "    database=\"35mmc\"\n",
    ")\n",
    "curr = db.cursor()\n",
    "print(\"Connceted\")\n",
    "\n",
    "# Getting all rows\n",
    "print(\"Getting Data . . .\")\n",
    "curr.execute(\"SELECT * FROM 35mmc_raw_bk\")\n",
    "\n",
    "# fetch all\n",
    "rawResult = curr.fetchall()\n",
    "# close connection\n",
    "print(\"Closing Connection . . .\")\n",
    "db.close()\n",
    "print(\"Disconnected\")\n",
    "\n",
    "\n",
    "import re\n",
    "import spacy\n",
    "from nltk.corpus import stopwords\n",
    "\n",
    "class TextCleaner:\n",
    "    \"\"\"Designed for Inverted Indexing\"\"\"\n",
    "    def __init__(self):\n",
    "        self.nlp = spacy.load(\"en_core_web_sm\")\n",
    "        self.stop_words = set(stopwords.words('english'))\n",
    "\n",
    "    def normalize(self, raw_text):\n",
    "        \"\"\"Remove special characters and lowercase text\"\"\"\n",
    "        return re.sub(r\"(@[A-Za-z0-9]+)|([^0-9A-Za-z \\t])|(\\w+:\\/\\/\\S+)|^rt|http.+?\", \" \", raw_text.lower())\n",
    "\n",
    "    def remove_stopwords(self, raw_text):\n",
    "        \"\"\"Remove stopwords\"\"\"\n",
    "        words = [word for word in raw_text.split() if word not in self.stop_words]\n",
    "        return \" \".join(words)\n",
    "\n",
    "    def lemmatize(self, raw_text):\n",
    "        \"\"\"Perform lemmatization\"\"\"\n",
    "        doc = self.nlp(raw_text)\n",
    "        return [token.lemma_ for token in doc]\n",
    "\n",
    "    def clean(self, raw_text):\n",
    "        \"\"\"Clean text by normalizing, removing stopwords, and lemmatizing\"\"\"\n",
    "        raw_text = self.normalize(raw_text)\n",
    "        raw_text = self.remove_stopwords(raw_text)\n",
    "        return self.lemmatize(raw_text)   \n",
    "\n",
    "\n",
    "from collections import Counter\n",
    "from tqdm import tqdm\n",
    "import pandas as pd\n",
    "import time\n",
    "# from concurrent.futures import ThreadPoolExecutor\n",
    "\n",
    "start = time.time()\n",
    "\n",
    "\n",
    "invertedIndex = pd.DataFrame({'Gram':[], 'DocsFreq':[], 'DocsID_Dict':[]})\n",
    "invertedIndex['DocsFreq'] = invertedIndex['DocsFreq'].astype(int)\n",
    "\n",
    "# for i in tqdm(range(3)):\n",
    "for i in tqdm(range(len(rawResult))):\n",
    "    \n",
    "    # get cleaned token\n",
    "    text_cleaner = TextCleaner()\n",
    "    normalized_text = text_cleaner.normalize(rawResult[i][2])\n",
    "    no_stopwords_text = text_cleaner.remove_stopwords(normalized_text)\n",
    "    lemmatized_text = text_cleaner.lemmatize(no_stopwords_text)\n",
    "    \n",
    "    # get token frequency\n",
    "    freq_dict = Counter(lemmatized_text)\n",
    "    \n",
    "    for word in freq_dict:\n",
    "        # If token already exists in dataframe\n",
    "        if len(invertedIndex.loc[invertedIndex['Gram'] == word]) == 1:\n",
    "            invertedIndex.loc[invertedIndex['Gram'] == word]['DocsID_Dict'][0][rawResult[i][3]] = freq_dict[word]\n",
    "            invertedIndex.loc[invertedIndex['Gram'] == word, 'DocsFreq'] += 1\n",
    "        \n",
    "        # New Words\n",
    "        else:\n",
    "            test_gram = word\n",
    "            test_DocsFreq = 1\n",
    "            test_DocsID_Dict = {\n",
    "                rawResult[i][3] : freq_dict[word]\n",
    "            }\n",
    "            new_row = pd.DataFrame({'Gram':[test_gram], 'DocsFreq':[test_DocsFreq], 'DocsID_Dict':[test_DocsID_Dict]})\n",
    "            invertedIndex = pd.concat([invertedIndex, new_row])\n",
    "\n",
    "end = time.time()        \n",
    "\n",
    "print(\"Runtime : \", end-start, \" sec.\")"
   ]
  },
  {
   "cell_type": "markdown",
   "id": "5105d7ae-ce9a-4536-bbbf-da7bab858c4f",
   "metadata": {},
   "source": [
    "pd.set_option('display.max_rows', None)\n",
    "pd.set_option('display.max_columns', None)\n",
    "invertedIndex"
   ]
  },
  {
   "cell_type": "code",
   "execution_count": 14,
   "id": "6e0af0e9-3b2a-457e-a61c-8e29217d230a",
   "metadata": {},
   "outputs": [],
   "source": [
    "from pathlib import Path  \n",
    "\n",
    "# filepath = Path('webData.csv')  \n",
    "# filepath.parent.mkdir(parents=True, exist_ok=True)  \n",
    "# webData.to_csv(filepath)  \n",
    "\n",
    "filepath = Path('invertedIndex.csv')  \n",
    "filepath.parent.mkdir(parents=True, exist_ok=True)  \n",
    "invertedIndex.to_csv(filepath)  "
   ]
  },
  {
   "cell_type": "markdown",
   "id": "bfea2739-02dc-47af-9a04-cbb6ead68e02",
   "metadata": {},
   "source": [
    "(end - start)/60"
   ]
  },
  {
   "cell_type": "code",
   "execution_count": 35,
   "id": "35126d93-fb9f-4bb8-bba8-34748ddd7d2e",
   "metadata": {},
   "outputs": [],
   "source": [
    "keyword = 'camera'\n",
    "contaninDocs1 = list(invertedIndex.loc[invertedIndex['Gram'] == keyword, 'DocsID_Dict'][0].keys())\n",
    "keyword = 'panorama'\n",
    "contaninDocs2 = list(invertedIndex.loc[invertedIndex['Gram'] == keyword, 'DocsID_Dict'][0].keys())\n",
    "\n",
    "\n",
    "invertedIndex.loc[invertedIndex['Gram'] == keyword, 'DocsID_Dict'][0].keys()"
   ]
  },
  {
   "cell_type": "code",
   "execution_count": 37,
   "id": "b3102624-e84e-454b-854c-0270ee0f0fe7",
   "metadata": {},
   "outputs": [
    {
     "data": {
      "text/plain": [
       "[1,\n",
       " 1026,\n",
       " 1027,\n",
       " 1030,\n",
       " 1044,\n",
       " 23,\n",
       " 541,\n",
       " 1056,\n",
       " 1068,\n",
       " 1073,\n",
       " 1074,\n",
       " 1079,\n",
       " 568,\n",
       " 1087,\n",
       " 576,\n",
       " 1089,\n",
       " 588,\n",
       " 620,\n",
       " 625,\n",
       " 129,\n",
       " 134,\n",
       " 153,\n",
       " 154,\n",
       " 162,\n",
       " 682,\n",
       " 172,\n",
       " 173,\n",
       " 702,\n",
       " 194,\n",
       " 195,\n",
       " 198,\n",
       " 203,\n",
       " 212,\n",
       " 214,\n",
       " 744,\n",
       " 239,\n",
       " 753,\n",
       " 754,\n",
       " 757,\n",
       " 759,\n",
       " 763,\n",
       " 767,\n",
       " 780,\n",
       " 273,\n",
       " 789,\n",
       " 791,\n",
       " 794,\n",
       " 796,\n",
       " 799,\n",
       " 800,\n",
       " 805,\n",
       " 808,\n",
       " 297,\n",
       " 306,\n",
       " 818,\n",
       " 831,\n",
       " 836,\n",
       " 837,\n",
       " 842,\n",
       " 843,\n",
       " 846,\n",
       " 864,\n",
       " 865,\n",
       " 355,\n",
       " 357,\n",
       " 360,\n",
       " 873,\n",
       " 369,\n",
       " 885,\n",
       " 892,\n",
       " 386,\n",
       " 391,\n",
       " 396,\n",
       " 918,\n",
       " 929,\n",
       " 938,\n",
       " 427,\n",
       " 941,\n",
       " 947,\n",
       " 436,\n",
       " 951,\n",
       " 952,\n",
       " 452,\n",
       " 453,\n",
       " 467,\n",
       " 981,\n",
       " 985,\n",
       " 1000,\n",
       " 493,\n",
       " 503,\n",
       " 1023]"
      ]
     },
     "execution_count": 37,
     "metadata": {},
     "output_type": "execute_result"
    }
   ],
   "source": [
    "def get_common_data(lists):\n",
    "    # Initialize an empty set to store the common elements\n",
    "    common_data = set(lists[0])\n",
    "    # Iterate over the rest of the lists\n",
    "    for lst in lists[1:]:\n",
    "        # Update the set with the common elements of the current list and the set\n",
    "        common_data.intersection_update(set(lst))\n",
    "    return list(common_data)\n",
    "\n",
    "get_common_data([contaninDocs1, contaninDocs2])"
   ]
  },
  {
   "cell_type": "code",
   "execution_count": 21,
   "id": "234616d1-9c9f-4541-9fab-2cc024c77b9f",
   "metadata": {},
   "outputs": [],
   "source": [
    "if os.path.exists('webData.csv') == False:\n",
    "    df_webData = pd.DataFrame(columns=['id', 'url'])\n",
    "    df_webData.to_csv('webData.csv', index=False)"
   ]
  },
  {
   "cell_type": "code",
   "execution_count": 17,
   "id": "ac5f54bd-c001-4621-89f9-65098ac5fbbe",
   "metadata": {},
   "outputs": [],
   "source": [
    "import os\n",
    "import pandas as pd\n",
    "\n",
    "if os.path.exists('webData.csv') == False:\n",
    "    header = ['id','url']\n",
    "    with open('webData.csv', 'w') as f:\n",
    "        writer = csv.writer(f)\n",
    "        # write the header\n",
    "        writer.writerow(header)\n",
    "df_webData = pd.read_csv('webData.csv')"
   ]
  },
  {
   "cell_type": "code",
   "execution_count": 20,
   "id": "17613c01-542e-4912-b72f-fb3960227ccf",
   "metadata": {},
   "outputs": [
    {
     "data": {
      "text/html": [
       "<div>\n",
       "<style scoped>\n",
       "    .dataframe tbody tr th:only-of-type {\n",
       "        vertical-align: middle;\n",
       "    }\n",
       "\n",
       "    .dataframe tbody tr th {\n",
       "        vertical-align: top;\n",
       "    }\n",
       "\n",
       "    .dataframe thead th {\n",
       "        text-align: right;\n",
       "    }\n",
       "</style>\n",
       "<table border=\"1\" class=\"dataframe\">\n",
       "  <thead>\n",
       "    <tr style=\"text-align: right;\">\n",
       "      <th></th>\n",
       "      <th>id</th>\n",
       "      <th>url</th>\n",
       "    </tr>\n",
       "  </thead>\n",
       "  <tbody>\n",
       "  </tbody>\n",
       "</table>\n",
       "</div>"
      ],
      "text/plain": [
       "Empty DataFrame\n",
       "Columns: [id, url]\n",
       "Index: []"
      ]
     },
     "execution_count": 20,
     "metadata": {},
     "output_type": "execute_result"
    }
   ],
   "source": [
    "df_webData"
   ]
  },
  {
   "cell_type": "code",
   "execution_count": 31,
   "id": "37f1eab7-ff5b-447f-9508-d2233fb4a347",
   "metadata": {},
   "outputs": [],
   "source": [
    "import csv\n",
    "\n",
    "# function to check if a URL already exists in the file\n",
    "def check_url(file_path, url):\n",
    "    # open the CSV file for reading\n",
    "    with open(file_path, 'r') as file:\n",
    "        reader = csv.DictReader(file)\n",
    "        # iterate through the rows in the file\n",
    "        for row in reader:\n",
    "            # check if the URL already exists in the file\n",
    "            if row['url'] == url:\n",
    "                return True\n",
    "    return False\n",
    "\n",
    "# function to insert a new row into the file\n",
    "def insert_row(file_path, new_row):\n",
    "    # open the CSV file for reading\n",
    "    with open(file_path, 'r') as file:\n",
    "        reader = csv.DictReader(file)\n",
    "        # create a list to store the existing rows\n",
    "        rows = []\n",
    "        # iterate through the rows in the file\n",
    "        for row in reader:\n",
    "            # add the row to the list\n",
    "            rows.append(row)\n",
    "    # add the new row to the list of existing rows\n",
    "    rows.append(new_row)\n",
    "\n",
    "    # open the CSV file for writing\n",
    "    with open(file_path, 'w', newline='') as file:\n",
    "        fieldnames = ['id', 'url']\n",
    "        writer = csv.DictWriter(file, fieldnames=fieldnames)\n",
    "        # write the header row\n",
    "        writer.writeheader()\n",
    "        # write all the rows to the file\n",
    "        for row in rows:\n",
    "            writer.writerow(row)"
   ]
  },
  {
   "cell_type": "code",
   "execution_count": 33,
   "id": "11e6851e-c63d-4b93-920c-411e586f16f2",
   "metadata": {},
   "outputs": [
    {
     "ename": "FileNotFoundError",
     "evalue": "[Errno 2] No such file or directory: 'project\\\\legacy\\testFile.csv'",
     "output_type": "error",
     "traceback": [
      "\u001b[1;31m---------------------------------------------------------------------------\u001b[0m",
      "\u001b[1;31mFileNotFoundError\u001b[0m                         Traceback (most recent call last)",
      "\u001b[1;32m~\\AppData\\Local\\Temp\\ipykernel_14492\\138686569.py\u001b[0m in \u001b[0;36m<module>\u001b[1;34m\u001b[0m\n\u001b[0;32m      2\u001b[0m \u001b[1;33m\u001b[0m\u001b[0m\n\u001b[0;32m      3\u001b[0m \u001b[1;31m# check if the URL already exists in the file\u001b[0m\u001b[1;33m\u001b[0m\u001b[1;33m\u001b[0m\u001b[0m\n\u001b[1;32m----> 4\u001b[1;33m \u001b[1;32mif\u001b[0m \u001b[0mcheck_url\u001b[0m\u001b[1;33m(\u001b[0m\u001b[1;34m'project\\legacy\\testFile.csv'\u001b[0m\u001b[1;33m,\u001b[0m \u001b[0mnew_row\u001b[0m\u001b[1;33m[\u001b[0m\u001b[1;34m'url'\u001b[0m\u001b[1;33m]\u001b[0m\u001b[1;33m)\u001b[0m\u001b[1;33m:\u001b[0m\u001b[1;33m\u001b[0m\u001b[1;33m\u001b[0m\u001b[0m\n\u001b[0m\u001b[0;32m      5\u001b[0m     \u001b[0mprint\u001b[0m\u001b[1;33m(\u001b[0m\u001b[1;34m'URL already exists in file'\u001b[0m\u001b[1;33m)\u001b[0m\u001b[1;33m\u001b[0m\u001b[1;33m\u001b[0m\u001b[0m\n\u001b[0;32m      6\u001b[0m \u001b[1;32melse\u001b[0m\u001b[1;33m:\u001b[0m\u001b[1;33m\u001b[0m\u001b[1;33m\u001b[0m\u001b[0m\n",
      "\u001b[1;32m~\\AppData\\Local\\Temp\\ipykernel_14492\\2410545559.py\u001b[0m in \u001b[0;36mcheck_url\u001b[1;34m(file_path, url)\u001b[0m\n\u001b[0;32m      4\u001b[0m \u001b[1;32mdef\u001b[0m \u001b[0mcheck_url\u001b[0m\u001b[1;33m(\u001b[0m\u001b[0mfile_path\u001b[0m\u001b[1;33m,\u001b[0m \u001b[0murl\u001b[0m\u001b[1;33m)\u001b[0m\u001b[1;33m:\u001b[0m\u001b[1;33m\u001b[0m\u001b[1;33m\u001b[0m\u001b[0m\n\u001b[0;32m      5\u001b[0m     \u001b[1;31m# open the CSV file for reading\u001b[0m\u001b[1;33m\u001b[0m\u001b[1;33m\u001b[0m\u001b[0m\n\u001b[1;32m----> 6\u001b[1;33m     \u001b[1;32mwith\u001b[0m \u001b[0mopen\u001b[0m\u001b[1;33m(\u001b[0m\u001b[0mfile_path\u001b[0m\u001b[1;33m,\u001b[0m \u001b[1;34m'r'\u001b[0m\u001b[1;33m)\u001b[0m \u001b[1;32mas\u001b[0m \u001b[0mfile\u001b[0m\u001b[1;33m:\u001b[0m\u001b[1;33m\u001b[0m\u001b[1;33m\u001b[0m\u001b[0m\n\u001b[0m\u001b[0;32m      7\u001b[0m         \u001b[0mreader\u001b[0m \u001b[1;33m=\u001b[0m \u001b[0mcsv\u001b[0m\u001b[1;33m.\u001b[0m\u001b[0mDictReader\u001b[0m\u001b[1;33m(\u001b[0m\u001b[0mfile\u001b[0m\u001b[1;33m)\u001b[0m\u001b[1;33m\u001b[0m\u001b[1;33m\u001b[0m\u001b[0m\n\u001b[0;32m      8\u001b[0m         \u001b[1;31m# iterate through the rows in the file\u001b[0m\u001b[1;33m\u001b[0m\u001b[1;33m\u001b[0m\u001b[0m\n",
      "\u001b[1;31mFileNotFoundError\u001b[0m: [Errno 2] No such file or directory: 'project\\\\legacy\\testFile.csv'"
     ]
    }
   ],
   "source": [
    "new_row = {'id': '123', 'url': 'https://www.example.com'}\n",
    "\n",
    "# check if the URL already exists in the file\n",
    "if check_url('project\\legacy\\testFile.csv', new_row['url']):\n",
    "    print('URL already exists in file')\n",
    "else:\n",
    "    # insert the new row into the file\n",
    "    insert_row('project\\legacy\\testFile.csv', new_row)"
   ]
  },
  {
   "cell_type": "code",
   "execution_count": 48,
   "id": "dd917ffb-c498-4c4a-8e31-d622bfef6075",
   "metadata": {},
   "outputs": [],
   "source": [
    "dir_path = 'project/honmono/'"
   ]
  },
  {
   "cell_type": "code",
   "execution_count": 49,
   "id": "b5b368ac-c56c-4d5b-9630-d08a357344ae",
   "metadata": {},
   "outputs": [
    {
     "data": {
      "text/plain": [
       "'project/honmono/'"
      ]
     },
     "execution_count": 49,
     "metadata": {},
     "output_type": "execute_result"
    }
   ],
   "source": [
    "dir_path"
   ]
  },
  {
   "cell_type": "code",
   "execution_count": 51,
   "id": "e467b9b5-3a5e-4882-9c63-051d9bd25a13",
   "metadata": {},
   "outputs": [],
   "source": [
    "status = 0\n",
    "f = open(\"test.py\", \"w\")\n",
    "f.write(\"stat = \" + str(status))\n",
    "f.close()"
   ]
  },
  {
   "cell_type": "code",
   "execution_count": 52,
   "id": "39a9c326-8633-46a8-8f26-5d81ead2f261",
   "metadata": {},
   "outputs": [],
   "source": [
    "from test import stat"
   ]
  },
  {
   "cell_type": "code",
   "execution_count": 53,
   "id": "8e03d475-75e6-4c1a-9ec1-c96194672376",
   "metadata": {},
   "outputs": [
    {
     "data": {
      "text/plain": [
       "0"
      ]
     },
     "execution_count": 53,
     "metadata": {},
     "output_type": "execute_result"
    }
   ],
   "source": [
    "stat"
   ]
  },
  {
   "cell_type": "code",
   "execution_count": 54,
   "id": "ccdf947e-af9e-454f-8ffd-f2a3d6ef7c5d",
   "metadata": {},
   "outputs": [],
   "source": [
    "stat += 1"
   ]
  },
  {
   "cell_type": "code",
   "execution_count": 55,
   "id": "f6b67e0b-2001-47df-8c71-4772b7a527d7",
   "metadata": {},
   "outputs": [
    {
     "data": {
      "text/plain": [
       "1"
      ]
     },
     "execution_count": 55,
     "metadata": {},
     "output_type": "execute_result"
    }
   ],
   "source": [
    "stat"
   ]
  },
  {
   "cell_type": "code",
   "execution_count": 57,
   "id": "39c7751f-c39e-4a14-8973-7508211c4512",
   "metadata": {},
   "outputs": [],
   "source": [
    "f = open(\"test.py\", \"w\")\n",
    "f.write(\"stat = \" + str(stat))\n",
    "f.close()"
   ]
  },
  {
   "cell_type": "code",
   "execution_count": 58,
   "id": "855a0b02-43a8-4cdc-b0e8-cc4ce8856704",
   "metadata": {},
   "outputs": [
    {
     "data": {
      "text/plain": [
       "0"
      ]
     },
     "execution_count": 58,
     "metadata": {},
     "output_type": "execute_result"
    }
   ],
   "source": [
    "from test import stat\n",
    "stat"
   ]
  },
  {
   "cell_type": "code",
   "execution_count": 59,
   "id": "3e61ab4f-9095-4819-a051-a59798606a62",
   "metadata": {},
   "outputs": [
    {
     "data": {
      "text/plain": [
       "int"
      ]
     },
     "execution_count": 59,
     "metadata": {},
     "output_type": "execute_result"
    }
   ],
   "source": [
    "type(stat)"
   ]
  },
  {
   "cell_type": "code",
   "execution_count": null,
   "id": "05b18059-8275-4d71-8dfa-6a539ec21bcf",
   "metadata": {},
   "outputs": [],
   "source": []
  }
 ],
 "metadata": {
  "kernelspec": {
   "display_name": "Python 3 (ipykernel)",
   "language": "python",
   "name": "python3"
  },
  "language_info": {
   "codemirror_mode": {
    "name": "ipython",
    "version": 3
   },
   "file_extension": ".py",
   "mimetype": "text/x-python",
   "name": "python",
   "nbconvert_exporter": "python",
   "pygments_lexer": "ipython3",
   "version": "3.9.13"
  },
  "vscode": {
   "interpreter": {
    "hash": "29779eaeaa662f518a7c5365664c9c0d0a52b94abeecfec7b0ccc4fc94e18524"
   }
  }
 },
 "nbformat": 4,
 "nbformat_minor": 5
}
