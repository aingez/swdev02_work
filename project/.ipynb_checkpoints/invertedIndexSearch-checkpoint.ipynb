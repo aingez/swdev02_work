{
 "cells": [
  {
   "cell_type": "code",
   "execution_count": 1,
   "id": "17a97a00",
   "metadata": {},
   "outputs": [],
   "source": [
    "import re\n",
    "import spacy\n",
    "from nltk.corpus import stopwords\n",
    "\n",
    "class TextCleaner:\n",
    "    def __init__(self):\n",
    "        self.nlp = spacy.load(\"en_core_web_sm\")\n",
    "        self.stop_words = set(stopwords.words('english'))\n",
    "\n",
    "    def normalize(self, raw_text):\n",
    "        \"\"\"Remove special characters and lowercase text\"\"\"\n",
    "        return re.sub(r\"(@[A-Za-z0-9]+)|([^0-9A-Za-z \\t])|(\\w+:\\/\\/\\S+)|^rt|http.+?\", \" \", raw_text.lower())\n",
    "\n",
    "    def remove_stopwords(self, raw_text):\n",
    "        \"\"\"Remove stopwords\"\"\"\n",
    "        words = [word for word in raw_text.split() if word not in self.stop_words]\n",
    "        return \" \".join(words)\n",
    "\n",
    "    def lemmatize(self, raw_text):\n",
    "        \"\"\"Perform lemmatization\"\"\"\n",
    "        doc = self.nlp(raw_text)\n",
    "        return [token.lemma_ for token in doc]\n",
    "\n",
    "    def clean(self, raw_text):\n",
    "        \"\"\"Clean text by normalizing, removing stopwords, and lemmatizing\"\"\"\n",
    "        raw_text = self.normalize(raw_text)\n",
    "        raw_text = self.remove_stopwords(raw_text)\n",
    "        return self.lemmatize(raw_text)"
   ]
  },
  {
   "cell_type": "markdown",
   "id": "fd22e79e-f08c-4f3d-b65b-ae1f2dc53adb",
   "metadata": {},
   "source": [
    "# Inverted Index Search from Indexed data"
   ]
  },
  {
   "cell_type": "code",
   "execution_count": 43,
   "id": "47063e8c-f794-4a8f-8c93-cfb4d07a01ab",
   "metadata": {},
   "outputs": [],
   "source": [
    "import pandas as pd\n",
    "import ast\n",
    "\n",
    "# Read the csv file\n",
    "# invertedIndex file\n",
    "invertedIndex = pd.read_csv('invertedIndex.csv', index_col=0)\n",
    "\n",
    "# webData file\n",
    "webData = pd.read_csv('webData.csv', index_col=0)\n",
    "\n",
    "def get_common_id(lists):\n",
    "    # Initialize an empty set to store the common elements\n",
    "    common_data = set(lists[0])\n",
    "    # Iterate over the rest of the lists\n",
    "    for lst in lists[1:]:\n",
    "        # Update the set with the common elements of the current list and the set\n",
    "        common_data.intersection_update(set(lst))\n",
    "    return list(common_data)\n",
    "\n",
    "def return_url_by_id(id):    \n",
    "    try:\n",
    "        return webData.loc[webData['ID'] == id, 'URL'][0]\n",
    "    except KeyError:\n",
    "        return 'No ID found in webData'\n",
    "    \n",
    "# dict_str = invertedIndex.loc[invertedIndex['Gram'] == 'leica', 'DocsID_Dict'][0]\n",
    "\n",
    "# Input Query convert to Token\n",
    "def query_clean(input_str):\n",
    "    if (input_str != \"\") and (type(input_str) == str):\n",
    "        text_cleaner = TextCleaner()\n",
    "        normalized_text = text_cleaner.normalize(input_str)\n",
    "        no_stopwords_text = text_cleaner.remove_stopwords(normalized_text)\n",
    "        lemmatized_text = text_cleaner.lemmatize(no_stopwords_text)\n",
    "        return lemmatized_text\n",
    "    else:\n",
    "        return 'Input Error'\n",
    "\n",
    "# Token to ID list\n",
    "def token_to_match_list_list(token_list):\n",
    "    res_temp = []\n",
    "    for token in token_list:\n",
    "        res_temp.append( ast.literal_eval(invertedIndex.loc[invertedIndex['Gram'] == token, 'DocsID_Dict'][0]) )\n",
    "    return res_temp\n",
    "\n",
    "def search_inverted_index(inputQuery):\n",
    "    output_temp = get_common_id(token_to_match_list_list(query_clean(inputQuery)))\n",
    "    print('Total ', len(output_temp), \" Results\")\n",
    "    for id in output_temp:\n",
    "        print(return_url_by_id(id))    "
   ]
  },
  {
   "cell_type": "markdown",
   "id": "ceb79718",
   "metadata": {},
   "source": [
    "dict_str = invertedIndex.loc[invertedIndex['Gram'] == 'grain', 'DocsID_Dict'][0]\n",
    "\n",
    "dict_result = ast.literal_eval(dict_str)\n",
    "\n",
    "dict_result.keys()"
   ]
  },
  {
   "cell_type": "code",
   "execution_count": null,
   "id": "0444760f-5dae-4d22-9a6a-fe8cbe99193e",
   "metadata": {},
   "outputs": [
    {
     "name": "stdout",
     "output_type": "stream",
     "text": [
      "Input Search : \n"
     ]
    },
    {
     "name": "stdin",
     "output_type": "stream",
     "text": [
      "None Sony Digital Cameras\n"
     ]
    },
    {
     "name": "stdout",
     "output_type": "stream",
     "text": [
      "Searching :  Sony Digital Cameras\n",
      "Total  45  Results\n",
      "https://www.35mmc.com/30/01/2016/nikon-l35af-review/\n",
      "https://www.35mmc.com/20/11/2020/photographing-little-things-on-film-by-jordi-fradera/\n",
      "https://www.35mmc.com/30/12/2022/shooting-infrared-with-a-rangefinder-camera-rollei-infrared-film-and-a-retina-iic-by-tony-warren/\n",
      "https://www.35mmc.com/12/07/2019/agfa-karat-36-review/\n",
      "https://www.35mmc.com/30/12/2022/shooting-infrared-with-a-rangefinder-camera-rollei-infrared-film-and-a-retina-iic-by-tony-warren/\n",
      "https://www.35mmc.com/17/10/2021/a-cinematic-photographer-discovering-new-horizons-by-nicola-armento/\n",
      "https://www.35mmc.com/08/07/2021/seeking-control-through-simplifying-the-digital-experience-by-vic-mortelmans/\n",
      "https://www.35mmc.com/18/07/2020/the-yashica-124g-and-how-it-helped-me-get-married-by-sacha-cloutier/\n",
      "https://www.35mmc.com/29/12/2019/panasonic-gm1-a-digital-ilc-alternative-to-the-olympus-xa2-by-charles-higham/\n",
      "https://www.35mmc.com/30/08/2021/sony-a7iii-mini-review-finding-the-darkside/\n",
      "https://www.35mmc.com/11/02/2019/leica-m240-review/\n",
      "https://www.35mmc.com/26/04/2016/fuji-x70-review-photographers-camera/\n",
      "https://www.35mmc.com/01/06/2020/shooting-5x4-with-connie-reminding-myself-how-easy-large-format-photography-is/\n",
      "https://www.35mmc.com/04/03/2017/fuji-x-pro-stopped-worrying-buying-digital-leica/\n",
      "https://www.35mmc.com/22/08/2016/leica-m8-review/\n",
      "https://www.35mmc.com/22/07/2021/returning-to-film-with-a-canon-a-nikon-and-a-touch-of-gas-by-simon-rikowski/\n",
      "https://www.35mmc.com/18/06/2016/snaps-leica-m8-zeiss-28mm-zm-biogon/\n",
      "https://www.35mmc.com/07/04/2021/puzzlewood-with-a-ir-modified-sony-nex-5n-by-charles-higham/\n",
      "https://www.35mmc.com/09/06/2018/leica-q-review/\n",
      "https://www.35mmc.com/01/07/2017/making-sony-a7rii-work/\n",
      "https://www.35mmc.com/29/12/2019/panasonic-gm1-a-digital-ilc-alternative-to-the-olympus-xa2-by-charles-higham/\n",
      "https://www.35mmc.com/29/12/2019/panasonic-gm1-a-digital-ilc-alternative-to-the-olympus-xa2-by-charles-higham/\n",
      "https://www.35mmc.com/29/12/2019/panasonic-gm1-a-digital-ilc-alternative-to-the-olympus-xa2-by-charles-higham/\n",
      "https://www.35mmc.com/29/10/2016/two-trips-olympus-trip-35/\n",
      "https://www.35mmc.com/30/01/2016/nikon-l35af-review/\n",
      "https://www.35mmc.com/30/12/2022/shooting-infrared-with-a-rangefinder-camera-rollei-infrared-film-and-a-retina-iic-by-tony-warren/\n",
      "https://www.35mmc.com/20/11/2020/photographing-little-things-on-film-by-jordi-fradera/\n",
      "https://www.35mmc.com/22/07/2021/returning-to-film-with-a-canon-a-nikon-and-a-touch-of-gas-by-simon-rikowski/\n",
      "https://www.35mmc.com/01/07/2020/olympus-xa-and-other-compacts-rediscovering-old-flames-by-alan-reich/\n",
      "https://www.35mmc.com/29/10/2016/two-trips-olympus-trip-35/\n",
      "https://www.35mmc.com/17/10/2021/a-cinematic-photographer-discovering-new-horizons-by-nicola-armento/\n",
      "https://www.35mmc.com/08/11/2020/my-journey-to-infrared-photography-by-markus-hofstatter/\n",
      "https://www.35mmc.com/01/06/2020/shooting-5x4-with-connie-reminding-myself-how-easy-large-format-photography-is/\n",
      "https://www.35mmc.com/29/12/2019/panasonic-gm1-a-digital-ilc-alternative-to-the-olympus-xa2-by-charles-higham/\n",
      "https://www.35mmc.com/13/10/2021/how-minimal-can-you-go-how-minimal-is-too-far-by-nik-stanbridge/\n",
      "https://www.35mmc.com/30/01/2016/nikon-l35af-review/\n",
      "https://www.35mmc.com/24/08/2020/monkeying-around-with-focal-length-and-perspective-by-sroyon-mukherjee/\n",
      "https://www.35mmc.com/30/01/2016/nikon-l35af-review/\n",
      "https://www.35mmc.com/08/07/2021/seeking-control-through-simplifying-the-digital-experience-by-vic-mortelmans/\n",
      "https://www.35mmc.com/14/01/2021/epaper-photo-printing-my-steampunk-photo-paper-by-marco-dughera/\n",
      "https://www.35mmc.com/20/06/2020/black-lives-matter-through-a-petzval-55mm-f1-7-mkii-lens-by-maxime-evangelista/\n",
      "https://www.35mmc.com/30/01/2016/nikon-l35af-review/\n",
      "https://www.35mmc.com/08/11/2020/my-journey-to-infrared-photography-by-markus-hofstatter/\n",
      "https://www.35mmc.com/01/07/2020/olympus-xa-and-other-compacts-rediscovering-old-flames-by-alan-reich/\n",
      "https://www.35mmc.com/15/02/2021/bokeh-finally-rationalising-my-relationship/\n",
      "Input Search : \n"
     ]
    }
   ],
   "source": [
    "inputQuery = \"\"\n",
    "\n",
    "while inputQuery != \"!ex\":\n",
    "    inputQuery = input(print(\"Input Search : \"))\n",
    "    print(\"Searching : \", inputQuery)\n",
    "    if inputQuery == \"!ex\":\n",
    "        pass\n",
    "    else:\n",
    "        search_inverted_index(inputQuery)\n",
    "    \n",
    "    \n",
    "print(\"\\nEXIT . . .\")   "
   ]
  },
  {
   "cell_type": "code",
   "execution_count": null,
   "id": "1a4586f2-0c6e-46a9-a770-69d454c80498",
   "metadata": {},
   "outputs": [],
   "source": []
  },
  {
   "cell_type": "code",
   "execution_count": null,
   "id": "50da3e73-366b-4db0-82b5-398df2b7b44b",
   "metadata": {},
   "outputs": [],
   "source": []
  }
 ],
 "metadata": {
  "kernelspec": {
   "display_name": "Python 3 (ipykernel)",
   "language": "python",
   "name": "python3"
  },
  "language_info": {
   "codemirror_mode": {
    "name": "ipython",
    "version": 3
   },
   "file_extension": ".py",
   "mimetype": "text/x-python",
   "name": "python",
   "nbconvert_exporter": "python",
   "pygments_lexer": "ipython3",
   "version": "3.9.13"
  },
  "vscode": {
   "interpreter": {
    "hash": "29779eaeaa662f518a7c5365664c9c0d0a52b94abeecfec7b0ccc4fc94e18524"
   }
  }
 },
 "nbformat": 4,
 "nbformat_minor": 5
}
