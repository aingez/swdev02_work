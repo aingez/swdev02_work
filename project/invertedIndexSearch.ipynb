{
 "cells": [
  {
   "cell_type": "markdown",
   "id": "fd22e79e-f08c-4f3d-b65b-ae1f2dc53adb",
   "metadata": {},
   "source": [
    "# Inverted Index Search from Indexed data"
   ]
  },
  {
   "cell_type": "code",
   "execution_count": 36,
   "id": "47063e8c-f794-4a8f-8c93-cfb4d07a01ab",
   "metadata": {},
   "outputs": [],
   "source": [
    "import re\n",
    "import spacy\n",
    "from nltk.corpus import stopwords\n",
    "\n",
    "import pandas as pd\n",
    "import ast\n",
    "\n",
    "# Read the csv file\n",
    "# invertedIndex file\n",
    "# OneDrive/Documents/GitHub/swdev02_work/project/temp_src/invertedIndex_v0.csv\n",
    "invertedIndex = pd.read_csv('temp_src/invertedIndex_v1.csv', index_col=0)\n",
    "# webData file\n",
    "webData = pd.read_csv('temp_src/webData_v0.csv', index_col=0)\n",
    "\n",
    "class TextCleaner:\n",
    "    def __init__(self):\n",
    "        self.nlp = spacy.load(\"en_core_web_sm\")\n",
    "        self.stop_words = set(stopwords.words('english'))\n",
    "\n",
    "    def normalize(self, raw_text):\n",
    "        \"\"\"Remove special characters and lowercase text\"\"\"\n",
    "        return re.sub(r\"(@[A-Za-z0-9]+)|([^0-9A-Za-z \\t])|(\\w+:\\/\\/\\S+)|^rt|http.+?\", \" \", raw_text.lower())\n",
    "\n",
    "    def remove_stopwords(self, raw_text):\n",
    "        \"\"\"Remove stopwords\"\"\"\n",
    "        words = [word for word in raw_text.split() if word not in self.stop_words]\n",
    "        return \" \".join(words)\n",
    "\n",
    "    def lemmatize(self, raw_text):\n",
    "        \"\"\"Perform lemmatization\"\"\"\n",
    "        doc = self.nlp(raw_text)\n",
    "        return [token.lemma_ for token in doc]\n",
    "\n",
    "    def clean(self, raw_text):\n",
    "        \"\"\"Clean text by normalizing, removing stopwords, and lemmatizing\"\"\"\n",
    "        raw_text = self.normalize(raw_text)\n",
    "        raw_text = self.remove_stopwords(raw_text)\n",
    "        return self.lemmatize(raw_text)\n",
    "\n",
    "\n",
    "def get_common_id(lists):\n",
    "    # Initialize an empty set to store the common elements\n",
    "    common_data = set(lists[0])\n",
    "    # Iterate over the rest of the lists\n",
    "    for lst in lists[1:]:\n",
    "        # Update the set with the common elements of the current list and the set\n",
    "        common_data.intersection_update(set(lst))\n",
    "    return list(common_data)\n",
    "\n",
    "def return_url_by_id(id):    \n",
    "    try:\n",
    "        return webData.loc[webData['ID'] == id, 'URL'][0]\n",
    "    except KeyError:\n",
    "        return 'No ID found in webData'\n",
    "\n",
    "# Input Query convert to Token\n",
    "def query_clean(input_str):\n",
    "    if (input_str != \"\") and (type(input_str) == str):\n",
    "        text_cleaner = TextCleaner()\n",
    "        normalized_text = text_cleaner.normalize(input_str)\n",
    "        no_stopwords_text = text_cleaner.remove_stopwords(normalized_text)\n",
    "        lemmatized_text = text_cleaner.lemmatize(no_stopwords_text)\n",
    "        return lemmatized_text\n",
    "    else:\n",
    "        return 'Input Error'\n",
    "\n",
    "# Token to ID list\n",
    "def token_to_match_list_list(token_list):\n",
    "    res_temp = []\n",
    "    for token in token_list:\n",
    "        # get dict of each token and make a list\n",
    "        res_temp.append( ast.literal_eval(invertedIndex.loc[invertedIndex['Gram'] == token, 'DocsID_Dict'][0]) )\n",
    "    return res_temp\n",
    "\n",
    "def search_inverted_index(inputQuery):\n",
    "    output_temp = get_common_id(token_to_match_list_list(query_clean(inputQuery)))\n",
    "    print('Total ', len(output_temp), \" Results\")\n",
    "    for id in output_temp:\n",
    "        print(return_url_by_id(id))    "
   ]
  },
  {
   "cell_type": "code",
   "execution_count": 37,
   "id": "0444760f-5dae-4d22-9a6a-fe8cbe99193e",
   "metadata": {},
   "outputs": [
    {
     "name": "stdout",
     "output_type": "stream",
     "text": [
      "Input Search : \n"
     ]
    },
    {
     "name": "stdin",
     "output_type": "stream",
     "text": [
      "None medium format\n"
     ]
    },
    {
     "name": "stdout",
     "output_type": "stream",
     "text": [
      "Searching :  medium format\n",
      "Total  90  Results\n",
      "https://www.35mmc.com/08/10/2016/ricoh-ff9s-review/\n",
      "https://www.35mmc.com/12/06/2021/200-miles-by-bike-in-california-12-photos-from-a-lomo-lca-120-by-eric-norris/\n",
      "https://www.35mmc.com/10/04/2018/5-frames-lomography-minitar-art-lens-barnaby-nutt/\n",
      "https://www.35mmc.com/21/09/2020/nine-homemade-cameras-my-pinhole-journey-pt-1-by-sroyon-mukherjee/\n",
      "https://www.35mmc.com/15/11/2019/fuji-natura-1600-shooting-star-trails-and-at-night/\n",
      "https://www.35mmc.com/10/04/2018/5-frames-lomography-minitar-art-lens-barnaby-nutt/\n",
      "https://www.35mmc.com/03/06/2021/my-journey-shooting-85-analog-cameras-and-writing-a-book-about-it-by-christof-bircher/\n",
      "https://www.35mmc.com/24/12/2018/panomicron-oxygen-review/\n",
      "https://www.35mmc.com/13/11/2020/shooting-darkroom-paper-in-camera-a-beginners-guide/\n",
      "https://www.35mmc.com/01/07/2017/making-sony-a7rii-work/\n",
      "https://www.35mmc.com/18/01/2021/3-ways-to-make-contact-sheets-and-what-they-can-tell-us-darkroom-technique-part-6-by-sroyon/\n",
      "https://www.35mmc.com/21/12/2019/kodak-ektar-25-urban-rural-decay-in-the-texas-panhandle/\n",
      "https://www.35mmc.com/06/01/2023/tokyo-in-monochrome-part-1-by-john-paul-menez/\n",
      "https://www.35mmc.com/08/12/2020/yashica-rapide-half-frame-review/\n",
      "https://www.35mmc.com/22/08/2021/montoggio-a-chronicle-of-an-absence-by-salvatore-da-cha/\n",
      "https://www.35mmc.com/06/04/2022/the-black-white-threshold-photographing-scotlands-skye-and-assynt-by-jasper-t-kauth/\n",
      "https://www.35mmc.com/15/06/2019/kodak-ektar-25-a-hasselblad-and-flooding-in-mississippi-by-andrew-morang/\n",
      "https://www.35mmc.com/31/03/2019/my-dark-side-night-photography-with-cinestill-800t-film-by-christian-schroeder/\n",
      "https://www.35mmc.com/03/02/2021/rollei-35s-choosing-a-film-partner-for-another-pocket-camera-by-phil-calvit/\n",
      "https://www.35mmc.com/22/05/2022/new-individualism-the-evolution-of-a-photo-project-by-pablo-garcia/\n",
      "https://www.35mmc.com/11/01/2019/minox-35-gt-guest-review/\n",
      "https://www.35mmc.com/24/05/2020/lockdown-lumen-artists-around-the-world-printing-with-sunlight/\n",
      "https://www.35mmc.com/03/02/2021/rollei-35s-choosing-a-film-partner-for-another-pocket-camera-by-phil-calvit/\n",
      "https://www.35mmc.com/02/09/2017/olympus-pen-ee-2-review/\n",
      "https://www.35mmc.com/12/05/2018/fuji-natura-s-review/\n",
      "https://www.35mmc.com/23/09/2021/36-photos-of-filipa-and-how-i-found-my-way-to-portrait-photography-by-fernando-martins/\n",
      "https://www.35mmc.com/16/07/2020/help-i-am-being-held-prisoner-in-a-lens-collection-by-jonathan-leavitt/\n",
      "https://www.35mmc.com/15/08/2016/leica-m8-important-use-ccd-look-photos/\n",
      "https://www.35mmc.com/07/11/2019/why-are-you-carrying-the-camera-by-frank-h-wu/\n",
      "https://www.35mmc.com/10/02/2022/appreciating-what-you-already-have-with-nikon-fe-and-fuji-c200-by-jesper-reiche/\n",
      "https://www.35mmc.com/08/12/2020/yashica-rapide-half-frame-review/\n",
      "https://www.35mmc.com/31/05/2019/minolta-hi-matic-7-review/\n",
      "https://www.35mmc.com/09/02/2018/not-camera-frank-h-wu/\n",
      "https://www.35mmc.com/30/05/2022/how-many-cameras-to-take-on-holiday-by-sroyon/\n",
      "https://www.35mmc.com/07/11/2019/why-are-you-carrying-the-camera-by-frank-h-wu/\n",
      "https://www.35mmc.com/15/08/2016/leica-m8-important-use-ccd-look-photos/\n",
      "https://www.35mmc.com/30/01/2022/the-benefits-of-bw-polyester-film-by-emanuel-hentes/\n",
      "https://www.35mmc.com/17/03/2016/experiences-35mm-ilford-sfx-guest-post-rob-mackillop/\n",
      "https://www.35mmc.com/30/05/2022/how-many-cameras-to-take-on-holiday-by-sroyon/\n",
      "https://www.35mmc.com/09/02/2018/not-camera-frank-h-wu/\n",
      "https://www.35mmc.com/19/03/2018/shooting-film-assignment-can-compete-digital-simon-king/\n",
      "https://www.35mmc.com/17/02/2022/learning-to-lean-into-lifes-unknowns-by-brian-cox/\n",
      "https://www.35mmc.com/15/05/2022/1-sunset-2-mediums-4-cameras-by-charlie-bierwirth/\n",
      "https://www.35mmc.com/03/06/2021/my-journey-shooting-85-analog-cameras-and-writing-a-book-about-it-by-christof-bircher/\n",
      "https://www.35mmc.com/28/12/2020/photography-theory-and-practice-a-collaborative-project/\n",
      "https://www.35mmc.com/16/09/2018/sharpness-creative-goal-still-not-prerequisite-good-photo-im-enjoying-makina-67/\n",
      "https://www.35mmc.com/28/12/2021/trying-concert-photography-on-film-by-billy-sanford/\n",
      "https://www.35mmc.com/07/11/2019/why-are-you-carrying-the-camera-by-frank-h-wu/\n",
      "https://www.35mmc.com/07/11/2019/why-are-you-carrying-the-camera-by-frank-h-wu/\n",
      "https://www.35mmc.com/12/05/2018/fuji-natura-s-review/\n",
      "https://www.35mmc.com/01/07/2021/condensing-time-by-christian-schroeder/\n",
      "https://www.35mmc.com/12/05/2018/fuji-natura-s-review/\n",
      "https://www.35mmc.com/25/09/2020/minolta-riva-zoom-110-review/\n",
      "https://www.35mmc.com/08/10/2016/ricoh-ff9s-review/\n",
      "https://www.35mmc.com/25/11/2017/rollei-35-cameras-review/\n",
      "https://www.35mmc.com/11/01/2019/minox-35-gt-guest-review/\n",
      "https://www.35mmc.com/08/12/2020/yashica-rapide-half-frame-review/\n",
      "https://www.35mmc.com/05/01/2023/news-luminar-100-35mm-color-film-released-by-popho-camera-company/\n",
      "https://www.35mmc.com/24/02/2020/news-fp4party-a-party-to-celebrate-ilford-photo-fp4-plus-film-by-sandeep/\n",
      "https://www.35mmc.com/26/04/2016/fuji-x70-review-photographers-camera/\n",
      "https://www.35mmc.com/04/03/2017/fuji-x-pro-stopped-worrying-buying-digital-leica/\n",
      "https://www.35mmc.com/08/10/2016/ricoh-ff9s-review/\n",
      "https://www.35mmc.com/26/11/2016/zeiss-ikon-taxona-review/\n",
      "https://www.35mmc.com/25/09/2020/minolta-riva-zoom-110-review/\n",
      "https://www.35mmc.com/25/09/2020/minolta-riva-zoom-110-review/\n",
      "https://www.35mmc.com/10/04/2018/5-frames-lomography-minitar-art-lens-barnaby-nutt/\n",
      "https://www.35mmc.com/18/02/2022/photographing-run-down-places-by-christian-schroeder/\n",
      "https://www.35mmc.com/17/03/2021/not-at-home-with-my-rolleiflex-stefan-wilde/\n",
      "https://www.35mmc.com/03/03/2021/record-covers-the-chronicle-of-a-photo-shoot-for-bradford-with-4-cameras-by-fernando-martins/\n",
      "https://www.35mmc.com/21/09/2020/nine-homemade-cameras-my-pinhole-journey-pt-1-by-sroyon-mukherjee/\n",
      "https://www.35mmc.com/25/09/2020/minolta-riva-zoom-110-review/\n",
      "https://www.35mmc.com/03/11/2015/creating-perfect-camera/\n",
      "https://www.35mmc.com/25/09/2020/minolta-riva-zoom-110-review/\n",
      "https://www.35mmc.com/31/03/2019/my-dark-side-night-photography-with-cinestill-800t-film-by-christian-schroeder/\n",
      "https://www.35mmc.com/14/04/2021/my-approach-to-portrait-photography-on-film-by-ken-wagner/\n",
      "https://www.35mmc.com/21/10/2020/zero-2000-pinhole-camera-camel/\n",
      "https://www.35mmc.com/03/12/2020/the-influence-of-film-on-film-preserve-by-lucinda-lewis/\n",
      "https://www.35mmc.com/04/06/2017/35mm-large-format-detroit/\n",
      "https://www.35mmc.com/21/10/2020/lens-versus-pinhole-battle-of-the-isolettes-by-rock/\n",
      "https://www.35mmc.com/12/03/2018/frames-hasselblad-xpan/\n",
      "https://www.35mmc.com/11/01/2019/minox-35-gt-guest-review/\n",
      "https://www.35mmc.com/08/11/2020/my-journey-to-infrared-photography-by-markus-hofstatter/\n",
      "https://www.35mmc.com/31/05/2020/lockdown-lumen-pt-2-artists-around-the-world-printing-with-sunlight/\n",
      "https://www.35mmc.com/02/05/2022/the-descent-of-a-film-photographer-part-1-from-colour-to-black-white-by-nandakumar/\n",
      "https://www.35mmc.com/12/05/2018/fuji-natura-s-review/\n",
      "https://www.35mmc.com/31/10/2022/nons-kickstarter-launches-for-new-instax-mini-camera-sl645/\n",
      "https://www.35mmc.com/31/03/2019/my-dark-side-night-photography-with-cinestill-800t-film-by-christian-schroeder/\n",
      "https://www.35mmc.com/28/12/2021/trying-concert-photography-on-film-by-billy-sanford/\n",
      "https://www.35mmc.com/08/11/2020/my-journey-to-infrared-photography-by-markus-hofstatter/\n",
      "https://www.35mmc.com/24/05/2020/lockdown-lumen-artists-around-the-world-printing-with-sunlight/\n",
      "Input Search : \n"
     ]
    },
    {
     "name": "stdin",
     "output_type": "stream",
     "text": [
      "None !ex\n"
     ]
    },
    {
     "name": "stdout",
     "output_type": "stream",
     "text": [
      "Searching :  !ex\n",
      "\n",
      "EXIT . . .\n"
     ]
    }
   ],
   "source": [
    "inputQuery = \"\"\n",
    "\n",
    "while inputQuery != \"!ex\":\n",
    "    inputQuery = input(print(\"Input Search : \"))\n",
    "    print(\"Searching : \", inputQuery)\n",
    "    if inputQuery == \"!ex\":\n",
    "        pass\n",
    "    else:\n",
    "        search_inverted_index(inputQuery)    \n",
    "    \n",
    "print(\"\\nEXIT . . .\")   "
   ]
  },
  {
   "cell_type": "markdown",
   "id": "ceb79718",
   "metadata": {},
   "source": [
    "dict_str = invertedIndex.loc[invertedIndex['Gram'] == 'grain', 'DocsID_Dict'][0]\n",
    "\n",
    "dict_result = ast.literal_eval(dict_str)\n",
    "\n",
    "dict_result.keys()"
   ]
  },
  {
   "cell_type": "markdown",
   "id": "da16b1a4-f826-48e4-a6eb-13c23b9a48cb",
   "metadata": {},
   "source": [
    "run_id = 0\n",
    "f = open(\"ScrapeDataStatus.py\", \"w\")\n",
    "\n",
    "f.write(\"CurrentID = \" + str(run_id) )\n",
    "f.close()"
   ]
  },
  {
   "cell_type": "markdown",
   "id": "492fe4d3-4954-4d60-8316-90dddd99ede5",
   "metadata": {},
   "source": [
    "from ScrapeDataStatus import *\n",
    "\n",
    "print(CurrentID)"
   ]
  },
  {
   "cell_type": "markdown",
   "id": "53b97cb4-0621-4652-8ae0-af9c9e66587f",
   "metadata": {},
   "source": [
    "import os.path\n",
    "\n",
    "os.path.exists('webData.csv')"
   ]
  },
  {
   "cell_type": "code",
   "execution_count": null,
   "id": "e3c8759e-422b-49cb-804c-809d4b17cb50",
   "metadata": {},
   "outputs": [],
   "source": []
  }
 ],
 "metadata": {
  "kernelspec": {
   "display_name": "Python 3 (ipykernel)",
   "language": "python",
   "name": "python3"
  },
  "language_info": {
   "codemirror_mode": {
    "name": "ipython",
    "version": 3
   },
   "file_extension": ".py",
   "mimetype": "text/x-python",
   "name": "python",
   "nbconvert_exporter": "python",
   "pygments_lexer": "ipython3",
   "version": "3.9.13"
  },
  "vscode": {
   "interpreter": {
    "hash": "29779eaeaa662f518a7c5365664c9c0d0a52b94abeecfec7b0ccc4fc94e18524"
   }
  }
 },
 "nbformat": 4,
 "nbformat_minor": 5
}
