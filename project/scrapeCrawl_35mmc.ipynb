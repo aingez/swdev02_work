{
 "cells": [
  {
   "cell_type": "code",
   "execution_count": 1,
   "id": "6454c750",
   "metadata": {},
   "outputs": [],
   "source": [
    "# import concurrent.futures\n",
    "# import requests\n",
    "# from bs4 import BeautifulSoup\n",
    "\n",
    "# def crawl_level(url, level):\n",
    "#     if level <= 3:\n",
    "#         print(\"Crawling level : \", level)\n",
    "#         webReq = requests.get(url)\n",
    "#         soup_obj = BeautifulSoup(webReq.text, \"html.parser\")\n",
    "#         print(soup_obj.find('h1', {'class':'entry-title'}).text)\n",
    "#         return [i.find('a')['href'] for i in soup_obj.find_all('div', {'class':'sp-col-4'})]\n",
    "#     else:\n",
    "#         return []\n",
    "\n",
    "# def crawl_3level(url, level):\n",
    "#     links = crawl_level(url, level)\n",
    "#     # parallel scraping\n",
    "#     with concurrent.futures.ThreadPoolExecutor() as executor:\n",
    "#         future_to_url = {executor.submit(crawl_3level, link, level+1): link for link in links}\n",
    "#         for future in concurrent.futures.as_completed(future_to_url):\n",
    "#             url = future_to_url[future]\n",
    "#             try:\n",
    "#                 future.result()\n",
    "#             except Exception as exc:\n",
    "#                 print('%r generated an exception: %s' % (url, exc))\n"
   ]
  },
  {
   "cell_type": "code",
   "execution_count": 2,
   "id": "2d9c2c2e",
   "metadata": {},
   "outputs": [],
   "source": [
    "# A code to scrape name from 35mmc.com\n",
    "# scrape for a defined level\n",
    "# Aing KK.\n",
    "\n",
    "from tqdm import tqdm\n",
    "import concurrent.futures\n",
    "import requests\n",
    "from bs4 import BeautifulSoup\n",
    "import mysql.connector\n",
    "import time"
   ]
  },
  {
   "cell_type": "code",
   "execution_count": 3,
   "id": "c7a68057",
   "metadata": {},
   "outputs": [],
   "source": [
    "def crawl_level(db, url, level):\n",
    "    # depth limit for crawling url\n",
    "    if level <= 10:\n",
    "        webReq = requests.get(url)\n",
    "        soup_obj = BeautifulSoup(webReq.text, \"html.parser\")\n",
    "        if soup_obj.find('article').text != None:\n",
    "            raw_text = soup_obj.find('article').text\n",
    "            # get title\n",
    "            get_title = soup_obj.find('h1', {'class':'entry-title'}).text\n",
    "            # print(\"Current level : \", level, \" at : \", get_title)\n",
    "            # store to db\n",
    "            db.store_db(get_title, url, raw_text)\n",
    "            # time.sleep(0.500)\n",
    "            return [i.find('a')['href'] for i in soup_obj.find_all('div', {'class':'sp-col-4'})]\n",
    "        else:\n",
    "            pass\n",
    "    else:\n",
    "        return []"
   ]
  },
  {
   "cell_type": "code",
   "execution_count": 4,
   "id": "f0c93556",
   "metadata": {},
   "outputs": [],
   "source": [
    "# def crawl_3level(db, url, level):\n",
    "#     links = crawl_level(db, url, level)\n",
    "#     # parallel scraping\n",
    "#     with concurrent.futures.ThreadPoolExecutor() as executor:\n",
    "#         future_to_url = {executor.submit(crawl_3level, db, link, level+1): link for link in links}\n",
    "#         for future in concurrent.futures.as_completed(future_to_url):\n",
    "#             url = future_to_url[future]\n",
    "#             try:\n",
    "#                 future.result()\n",
    "#             except Exception as exc:\n",
    "#                 print('%r generated an exception: %s' % (url, exc))\n",
    "                \n",
    "def crawl_3level(db, url, level):\n",
    "    for link in crawl_level(db, url, level):\n",
    "        crawl_3level(db, link, level+1)\n",
    "    # print(\"level : \", level, \" Completed\")\n",
    "        "
   ]
  },
  {
   "cell_type": "code",
   "execution_count": 5,
   "id": "0cd5c26f",
   "metadata": {},
   "outputs": [],
   "source": [
    "class databasePipeline:\n",
    "    def __init__(self, host, user, password, database, table_name):\n",
    "        print(\"Initialize Database Pipeline\")\n",
    "        self.host = host\n",
    "        self.user = user\n",
    "        self.password = password\n",
    "        self.database = database\n",
    "        self.table_name = table_name\n",
    "        self.create_connection()\n",
    "        self.curr = self.conn.cursor()\n",
    "        self.create_table()\n",
    "\n",
    "    def create_connection(self):\n",
    "        \"\"\"Create a connection to the database\"\"\"\n",
    "        print(\"Creating Connection . . .\")\n",
    "        self.conn = mysql.connector.connect(\n",
    "            host=self.host,\n",
    "            user=self.user,\n",
    "            password=self.password,\n",
    "            database=self.database\n",
    "        )\n",
    "        print(\"Connceted.\")\n",
    "    \n",
    "    def create_table(self):\n",
    "        print(\"Creating table . . .\")\n",
    "        self.curr.execute(\"\"\"DROP TABLE IF EXISTS 35mmc_raw\"\"\")\n",
    "        self.curr.execute(\"\"\"create table 35mmc_raw(\n",
    "            title text,\n",
    "            url text,\n",
    "            raw_text text\n",
    "        )\"\"\")\n",
    "        print(\"Done Table.\")\n",
    "\n",
    "    def store_db(self, title, url, raw_text):\n",
    "        self.curr.execute(\n",
    "            \"\"\"INSERT INTO {} (title, url, raw_text) VALUES (%s, %s, %s)\"\"\".format(self.table_name),\n",
    "            (title, url, raw_text)\n",
    "        )\n",
    "        self.conn.commit()  "
   ]
  },
  {
   "cell_type": "code",
   "execution_count": 6,
   "id": "5130fd46",
   "metadata": {},
   "outputs": [],
   "source": [
    "start_url = 'https://www.35mmc.com/20/05/2016/halina-af700-review/'"
   ]
  },
  {
   "cell_type": "code",
   "execution_count": 7,
   "id": "9dcaa6ec",
   "metadata": {},
   "outputs": [
    {
     "name": "stdout",
     "output_type": "stream",
     "text": [
      "Initialize Database Pipeline\n",
      "Creating Connection . . .\n",
      "Connceted.\n",
      "Creating table . . .\n",
      "Done Table.\n"
     ]
    }
   ],
   "source": [
    "db = databasePipeline('localhost', 'root', 'aingg', '35mmc', '35mmc_raw')"
   ]
  },
  {
   "cell_type": "code",
   "execution_count": null,
   "id": "18a6d04f",
   "metadata": {},
   "outputs": [],
   "source": [
    "start_level = 1 \n",
    "crawl_3level(db, start_url, start_level)\n",
    "print(\"DONE\")"
   ]
  }
 ],
 "metadata": {
  "kernelspec": {
   "display_name": "Python 3 (ipykernel)",
   "language": "python",
   "name": "python3"
  },
  "language_info": {
   "codemirror_mode": {
    "name": "ipython",
    "version": 3
   },
   "file_extension": ".py",
   "mimetype": "text/x-python",
   "name": "python",
   "nbconvert_exporter": "python",
   "pygments_lexer": "ipython3",
   "version": "3.9.13"
  }
 },
 "nbformat": 4,
 "nbformat_minor": 5
}
