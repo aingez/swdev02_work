{
 "cells": [
  {
   "cell_type": "code",
   "execution_count": 11,
   "id": "17976370-382b-4233-a4fc-9d760f5919eb",
   "metadata": {},
   "outputs": [
    {
     "name": "stdout",
     "output_type": "stream",
     "text": [
      "Creating Connection . . .\n",
      "Connceted\n",
      "Getting Data . . .\n",
      "Closing Connection . . .\n",
      "Disconnected\n"
     ]
    },
    {
     "name": "stderr",
     "output_type": "stream",
     "text": [
      "100%|██████████| 1093/1093 [56:36<00:00,  3.11s/it] "
     ]
    },
    {
     "name": "stdout",
     "output_type": "stream",
     "text": [
      "Runtime :  3396.4911439418793  sec.\n"
     ]
    },
    {
     "name": "stderr",
     "output_type": "stream",
     "text": [
      "\n"
     ]
    }
   ],
   "source": [
    "import mysql.connector\n",
    "\n",
    "print(\"Creating Connection . . .\")\n",
    "db = mysql.connector.connect(\n",
    "    host=\"localhost\",\n",
    "    user=\"root\",\n",
    "    password=\"aingg\",\n",
    "    database=\"35mmc\"\n",
    ")\n",
    "curr = db.cursor()\n",
    "print(\"Connceted\")\n",
    "\n",
    "# Getting all rows\n",
    "print(\"Getting Data . . .\")\n",
    "curr.execute(\"SELECT * FROM 35mmc_raw_bk\")\n",
    "\n",
    "# fetch all\n",
    "rawResult = curr.fetchall()\n",
    "# close connection\n",
    "print(\"Closing Connection . . .\")\n",
    "db.close()\n",
    "print(\"Disconnected\")\n",
    "\n",
    "\n",
    "import re\n",
    "import spacy\n",
    "from nltk.corpus import stopwords\n",
    "\n",
    "class TextCleaner:\n",
    "    def __init__(self):\n",
    "        self.nlp = spacy.load(\"en_core_web_sm\")\n",
    "        self.stop_words = set(stopwords.words('english'))\n",
    "\n",
    "    def normalize(self, raw_text):\n",
    "        \"\"\"Remove special characters and lowercase text\"\"\"\n",
    "        return re.sub(r\"(@[A-Za-z0-9]+)|([^0-9A-Za-z \\t])|(\\w+:\\/\\/\\S+)|^rt|http.+?\", \" \", raw_text.lower())\n",
    "\n",
    "    def remove_stopwords(self, raw_text):\n",
    "        \"\"\"Remove stopwords\"\"\"\n",
    "        words = [word for word in raw_text.split() if word not in self.stop_words]\n",
    "        return \" \".join(words)\n",
    "\n",
    "    def lemmatize(self, raw_text):\n",
    "        \"\"\"Perform lemmatization\"\"\"\n",
    "        doc = self.nlp(raw_text)\n",
    "        return [token.lemma_ for token in doc]\n",
    "\n",
    "    def clean(self, raw_text):\n",
    "        \"\"\"Clean text by normalizing, removing stopwords, and lemmatizing\"\"\"\n",
    "        raw_text = self.normalize(raw_text)\n",
    "        raw_text = self.remove_stopwords(raw_text)\n",
    "        return self.lemmatize(raw_text)\n",
    "    \n",
    "\n",
    "    \n",
    "\n",
    "\n",
    "from collections import Counter\n",
    "from tqdm import tqdm\n",
    "import pandas as pd\n",
    "import time\n",
    "# from concurrent.futures import ThreadPoolExecutor\n",
    "\n",
    "start = time.time()\n",
    "\n",
    "\n",
    "invertedIndex = pd.DataFrame({'Gram':[], 'DocsFreq':[], 'DocsID_Dict':[]})\n",
    "invertedIndex['DocsFreq'] = invertedIndex['DocsFreq'].astype(int)\n",
    "\n",
    "# for i in tqdm(range(3)):\n",
    "for i in tqdm(range(len(rawResult))):\n",
    "    \n",
    "    # get cleaned token\n",
    "    text_cleaner = TextCleaner()\n",
    "    normalized_text = text_cleaner.normalize(rawResult[i][2])\n",
    "    no_stopwords_text = text_cleaner.remove_stopwords(normalized_text)\n",
    "    lemmatized_text = text_cleaner.lemmatize(no_stopwords_text)\n",
    "    \n",
    "    # get token frequency\n",
    "    freq_dict = Counter(lemmatized_text)\n",
    "    \n",
    "    for word in freq_dict:\n",
    "        # If token already exists in dataframe\n",
    "        if len(invertedIndex.loc[invertedIndex['Gram'] == word]) == 1:\n",
    "            invertedIndex.loc[invertedIndex['Gram'] == word]['DocsID_Dict'][0][rawResult[i][3]] = freq_dict[word]\n",
    "            invertedIndex.loc[invertedIndex['Gram'] == word, 'DocsFreq'] += 1\n",
    "        \n",
    "        # New Words\n",
    "        else:\n",
    "            test_gram = word\n",
    "            test_DocsFreq = 1\n",
    "            test_DocsID_Dict = {\n",
    "                rawResult[i][3] : freq_dict[word]\n",
    "            }\n",
    "            new_row = pd.DataFrame({'Gram':[test_gram], 'DocsFreq':[test_DocsFreq], 'DocsID_Dict':[test_DocsID_Dict]})\n",
    "            invertedIndex = pd.concat([invertedIndex, new_row])\n",
    "\n",
    "end = time.time()        \n",
    "\n",
    "print(\"Runtime : \", end-start, \" sec.\")"
   ]
  },
  {
   "cell_type": "markdown",
   "id": "5105d7ae-ce9a-4536-bbbf-da7bab858c4f",
   "metadata": {},
   "source": [
    "pd.set_option('display.max_rows', None)\n",
    "pd.set_option('display.max_columns', None)\n",
    "invertedIndex"
   ]
  },
  {
   "cell_type": "code",
   "execution_count": 14,
   "id": "6e0af0e9-3b2a-457e-a61c-8e29217d230a",
   "metadata": {},
   "outputs": [],
   "source": [
    "from pathlib import Path  \n",
    "\n",
    "# filepath = Path('webData.csv')  \n",
    "# filepath.parent.mkdir(parents=True, exist_ok=True)  \n",
    "# webData.to_csv(filepath)  \n",
    "\n",
    "filepath = Path('invertedIndex.csv')  \n",
    "filepath.parent.mkdir(parents=True, exist_ok=True)  \n",
    "invertedIndex.to_csv(filepath)  "
   ]
  },
  {
   "cell_type": "code",
   "execution_count": 15,
   "id": "c8d2b21a-b7db-42f5-bdba-03681cec695d",
   "metadata": {},
   "outputs": [
    {
     "data": {
      "text/plain": [
       "56.60818573236465"
      ]
     },
     "execution_count": 15,
     "metadata": {},
     "output_type": "execute_result"
    }
   ],
   "source": [
    "(end - start)/60"
   ]
  },
  {
   "cell_type": "code",
   "execution_count": null,
   "id": "d6241d6b-c9c9-4310-b348-26a4a4f12b4c",
   "metadata": {},
   "outputs": [],
   "source": []
  }
 ],
 "metadata": {
  "kernelspec": {
   "display_name": "Python 3 (ipykernel)",
   "language": "python",
   "name": "python3"
  },
  "language_info": {
   "codemirror_mode": {
    "name": "ipython",
    "version": 3
   },
   "file_extension": ".py",
   "mimetype": "text/x-python",
   "name": "python",
   "nbconvert_exporter": "python",
   "pygments_lexer": "ipython3",
   "version": "3.9.13"
  }
 },
 "nbformat": 4,
 "nbformat_minor": 5
}
