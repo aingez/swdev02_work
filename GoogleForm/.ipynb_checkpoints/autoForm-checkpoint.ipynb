{
 "cells": [
  {
   "cell_type": "code",
   "execution_count": 130,
   "id": "a78b94b4",
   "metadata": {},
   "outputs": [],
   "source": [
    "from selenium import webdriver\n",
    "from selenium.webdriver.common.keys import Keys\n",
    "# import bs4\n",
    "import time\n",
    "# import pandas as pd\n",
    "# import os\n",
    "from selenium.webdriver.common.by import By"
   ]
  },
  {
   "cell_type": "code",
   "execution_count": 131,
   "id": "8ddecbcd",
   "metadata": {},
   "outputs": [],
   "source": [
    "# function to open and navigate page to specific keyword\n",
    "# def openForm():\n",
    "# open chrome window\n",
    "driver = webdriver.Chrome()\n",
    "# go to google form\n",
    "driver.get('https://docs.google.com/forms/d/e/1FAIpQLSdpyoIcgQLrEhUuIN3Tqq7GkOYjArPIT3b7XNPF77d1mrbyHg/viewform')\n",
    "time.sleep(2)"
   ]
  },
  {
   "cell_type": "code",
   "execution_count": 132,
   "id": "bd8a58d9",
   "metadata": {},
   "outputs": [],
   "source": [
    "# /html/body/div/div[2]/form/div[2]/div/div[2]/div[1]/div/div/div[2]/div/div[1]/div/div[1]/input\n",
    "curr = driver.find_element('xpath', '/html/body/div/div[2]/form/div[2]/div/div[2]/div[1]/div/div/div[2]/div/div[1]/div/div[1]/input')\n",
    "curr.send_keys(\"Aing\")"
   ]
  },
  {
   "cell_type": "code",
   "execution_count": 133,
   "id": "978b242d",
   "metadata": {},
   "outputs": [],
   "source": [
    "# /html/body/div/div[2]/form/div[2]/div/div[2]/div[2]/div/div/div[2]/div/div[1]/div/div[1]/input\n",
    "curr = driver.find_element('xpath', '/html/body/div/div[2]/form/div[2]/div/div[2]/div[2]/div/div/div[2]/div/div[1]/div/div[1]/input')\n",
    "curr.send_keys(\"KK\")"
   ]
  },
  {
   "cell_type": "code",
   "execution_count": 134,
   "id": "4e9f3c34",
   "metadata": {},
   "outputs": [],
   "source": [
    "# /html/body/div/div[2]/form/div[2]/div/div[2]/div[3]/div/div/div[2]/div/div[1]/div/div[1]/input\n",
    "curr = driver.find_element('xpath', '/html/body/div/div[2]/form/div[2]/div/div[2]/div[3]/div/div/div[2]/div/div[1]/div/div[1]/input')\n",
    "curr.send_keys(\"1234567890\")"
   ]
  },
  {
   "cell_type": "code",
   "execution_count": 135,
   "id": "558e69a7",
   "metadata": {},
   "outputs": [],
   "source": [
    "# next page\n",
    "# /html/body/div/div[2]/form/div[2]/div/div[3]/div[1]/div[1]/div/span\n",
    "thai_button = driver.find_element('xpath', '/html/body/div/div[2]/form/div[2]/div/div[3]/div[1]/div[1]/div/span')\n",
    "thai_button.click()\n",
    "time.sleep(2)"
   ]
  },
  {
   "cell_type": "code",
   "execution_count": 136,
   "id": "1935bcfc",
   "metadata": {},
   "outputs": [],
   "source": [
    "# driver.execute_script(\"document.body.style.zoom='60%'\")"
   ]
  },
  {
   "cell_type": "code",
   "execution_count": 137,
   "id": "f212e2d1",
   "metadata": {},
   "outputs": [],
   "source": [
    "# Enter date\n",
    "# date_field = driver.find_element_by_css_selector(\"#date-field-id\")\n",
    "date_field = driver.find_element(By.CSS_SELECTOR, \".zHQkBf\")\n",
    "date_field.send_keys(\"09-08-2007\")"
   ]
  },
  {
   "cell_type": "code",
   "execution_count": 138,
   "id": "2df62f6e",
   "metadata": {},
   "outputs": [],
   "source": [
    "# Multiple Choice\n",
    "# /html/body/div[1]/div[2]/form/div[2]/div/div[2]/div[2]/div/div/div[2]/div/div[1]\n",
    "thai_button = driver.find_element(By.CLASS_NAME, 'vd3tt')\n",
    "thai_button.click()"
   ]
  },
  {
   "cell_type": "code",
   "execution_count": 139,
   "id": "edc66147",
   "metadata": {},
   "outputs": [],
   "source": [
    "# next page\n",
    "# /html/body/div[1]/div[2]/form/div[2]/div/div[3]/div[1]/div[1]/div[2]/span\n",
    "thai_button = driver.find_element('xpath', '/html/body/div[1]/div[2]/form/div[2]/div/div[3]/div[1]/div[1]/div[2]/span')\n",
    "thai_button.click()\n",
    "time.sleep(2)"
   ]
  },
  {
   "cell_type": "code",
   "execution_count": 140,
   "id": "7c5e9a06",
   "metadata": {},
   "outputs": [],
   "source": [
    "# driver.execute_script(\"document.body.style.zoom='60%'\")"
   ]
  },
  {
   "cell_type": "code",
   "execution_count": 141,
   "id": "1fa4a441",
   "metadata": {},
   "outputs": [],
   "source": [
    "# Ice Cream?\n",
    "thai_button = driver.find_element(By.CSS_SELECTOR, '.KKjvXb')\n",
    "thai_button.click()\n",
    "time.sleep(1)"
   ]
  },
  {
   "cell_type": "code",
   "execution_count": 142,
   "id": "9a1006e9",
   "metadata": {},
   "outputs": [],
   "source": [
    "# /html/body/div[1]/div[2]/form/div[2]/div/div[2]/div[2]/div/div/div[2]/div/div[2]/div[3]\n",
    "thai_button = driver.find_element(By.XPATH, '/html/body/div[1]/div[2]/form/div[2]/div/div[2]/div[2]/div/div/div[2]/div/div[2]/div[3]')\n",
    "thai_button.click()"
   ]
  },
  {
   "cell_type": "code",
   "execution_count": 143,
   "id": "bfb874c8",
   "metadata": {},
   "outputs": [],
   "source": [
    "# น้ำ ๕ บาท\n",
    "thai_button = driver.find_element(By.CSS_SELECTOR, '.T5pZmf:nth-child(6) .vd3tt')\n",
    "thai_button.click()"
   ]
  },
  {
   "cell_type": "code",
   "execution_count": 144,
   "id": "9bc78e72",
   "metadata": {},
   "outputs": [],
   "source": [
    "# ข้าวมันไก่ไม่เอาหนัง\n",
    "thai_button = driver.find_element(By.XPATH, '/html/body/div[1]/div[2]/form/div[2]/div/div[2]/div[4]/div/div/div[2]/div/div[1]/div/div[2]/label[1]/div/div')\n",
    "thai_button.click()\n",
    "thai_button = driver.find_element(By.XPATH, '/html/body/div[1]/div[2]/form/div[2]/div/div[2]/div[4]/div/div/div[2]/div/div[1]/div/div[4]/label[2]/div/div')\n",
    "thai_button.click()"
   ]
  },
  {
   "cell_type": "code",
   "execution_count": 145,
   "id": "204e5b34",
   "metadata": {},
   "outputs": [],
   "source": [
    "# Submit\n",
    "# /html/body/div[1]/div[2]/form/div[2]/div/div[2]/div[4]/div/div/div[2]/div/div[1]/div/div[4]/label[2]/div/div\n",
    "thai_button = driver.find_element(By.CSS_SELECTOR, '.QvWxOd .Fxmcue')\n",
    "thai_button.click()\n",
    "time.sleep(2)\n",
    "driver.close()"
   ]
  },
  {
   "cell_type": "code",
   "execution_count": null,
   "id": "f71e6963",
   "metadata": {},
   "outputs": [],
   "source": []
  }
 ],
 "metadata": {
  "kernelspec": {
   "display_name": "Python 3 (ipykernel)",
   "language": "python",
   "name": "python3"
  },
  "language_info": {
   "codemirror_mode": {
    "name": "ipython",
    "version": 3
   },
   "file_extension": ".py",
   "mimetype": "text/x-python",
   "name": "python",
   "nbconvert_exporter": "python",
   "pygments_lexer": "ipython3",
   "version": "3.9.13"
  }
 },
 "nbformat": 4,
 "nbformat_minor": 5
}
