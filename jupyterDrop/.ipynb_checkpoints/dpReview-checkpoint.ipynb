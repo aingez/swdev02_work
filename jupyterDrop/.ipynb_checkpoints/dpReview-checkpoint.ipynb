{
 "cells": [
  {
   "cell_type": "code",
   "execution_count": 68,
   "id": "b7a97479",
   "metadata": {},
   "outputs": [],
   "source": [
    "import requests\n",
    "from bs4 import BeautifulSoup\n",
    "import pandas as pd"
   ]
  },
  {
   "cell_type": "code",
   "execution_count": 69,
   "id": "7b912225",
   "metadata": {},
   "outputs": [],
   "source": [
    "url = 'https://www.dpreview.com/products/cameras/all?page='"
   ]
  },
  {
   "cell_type": "code",
   "execution_count": 72,
   "id": "c9327892",
   "metadata": {},
   "outputs": [],
   "source": [
    "def nameExt(url):\n",
    "    web_request = requests.get(url)\n",
    "    soup = BeautifulSoup(web_request.text, \"html.parser\")\n",
    "    all_body = soup.find_all('td', {'class':'product'})\n",
    "    for i in all_body:\n",
    "        a = i.find('div', {'class':'info'})\n",
    "        a = a.find('div', {'class':'name'})\n",
    "        a = a.find('a')\n",
    "        print(a.text)"
   ]
  },
  {
   "cell_type": "code",
   "execution_count": 73,
   "id": "bf729b3b",
   "metadata": {},
   "outputs": [
    {
     "name": "stdout",
     "output_type": "stream",
     "text": [
      "page1\n",
      "Pentax KF\n",
      "Fujifilm X-T5\n",
      "Canon EOS R6 Mark II\n",
      "Sony a7R V\n",
      "OM System OM-5\n",
      "Sony ZV-1F\n",
      "Sony FX30\n",
      "Fujifilm X-H2\n",
      "Hasselblad X2D 100c\n",
      "Nikon Z30\n",
      "Fujifilm X-H2S\n",
      "Canon EOS R7\n",
      "Canon EOS R10\n",
      "Panasonic Lumix DC-GH6\n",
      "OM System OM-1\n",
      "Canon EOS R5 C\n",
      "Leica M11\n",
      "Nikon Z9\n",
      "Sony a7 IV\n",
      "Panasonic Lumix DC-BS1H\n",
      "Ricoh GR IIIx\n",
      "Fujifilm GFX 50S II\n",
      "Fujifilm X-T30 II\n",
      "Sony ZV-E10\n",
      "Nikon Z fc\n",
      "Olympus PEN E-P7\n",
      "Panasonic Lumix DC-GH5 II (Lumix DC-GH5M2)\n",
      "Canon EOS R3\n",
      "Sony a7R IVA\n",
      "Sony a7R IIIA\n",
      "Pentax K-3 Mark III\n",
      "Sigma fp L\n",
      "Fujifilm GFX 100S\n",
      "Fujifilm X-E4\n",
      "Sony a1\n",
      "Leica SL2-S\n",
      "Olympus OM-D E-M10 IIIs\n",
      "Leica Q2 Monochrom\n",
      "DJI RS 2\n",
      "DJI Pocket 2\n",
      "Fujifilm X-S10\n",
      "Nikon Z6 II\n",
      "Nikon Z7 II\n",
      "Canon EOS M50 Mark II (EOS Kiss M2)\n",
      "Canon PowerShot Zoom\n",
      "Panasonic Lumix DC-BGH1\n",
      "GoPro Hero9 Black\n",
      "Sony a7C\n",
      "Panasonic Lumix DC-S5\n",
      "Olympus OM-D E-M10 IV\n"
     ]
    }
   ],
   "source": [
    "for i in range(1):\n",
    "    print('page' + str(i+1))\n",
    "    nameExt(url + str(i+1))"
   ]
  },
  {
   "cell_type": "code",
   "execution_count": null,
   "id": "c8842fc5",
   "metadata": {},
   "outputs": [],
   "source": []
  },
  {
   "cell_type": "code",
   "execution_count": null,
   "id": "d3a44f77",
   "metadata": {},
   "outputs": [],
   "source": []
  },
  {
   "cell_type": "code",
   "execution_count": null,
   "id": "971b9d14",
   "metadata": {},
   "outputs": [],
   "source": []
  }
 ],
 "metadata": {
  "kernelspec": {
   "display_name": "Python 3 (ipykernel)",
   "language": "python",
   "name": "python3"
  },
  "language_info": {
   "codemirror_mode": {
    "name": "ipython",
    "version": 3
   },
   "file_extension": ".py",
   "mimetype": "text/x-python",
   "name": "python",
   "nbconvert_exporter": "python",
   "pygments_lexer": "ipython3",
   "version": "3.9.13"
  }
 },
 "nbformat": 4,
 "nbformat_minor": 5
}
